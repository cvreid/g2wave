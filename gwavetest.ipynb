{
 "cells": [
  {
   "cell_type": "code",
   "execution_count": 1,
   "metadata": {},
   "outputs": [],
   "source": [
    "from modules.functions import load_training_labels, load_training_batch, data_to_image\n",
    "from modules.basic_convo import QTransConv, train_model"
   ]
  },
  {
   "cell_type": "code",
   "execution_count": 2,
   "metadata": {},
   "outputs": [],
   "source": [
    "labels = load_training_labels()"
   ]
  },
  {
   "cell_type": "code",
   "execution_count": 3,
   "metadata": {},
   "outputs": [
    {
     "ename": "TypeError",
     "evalue": "__init__() got an unexpected keyword argument 'profiler_memory'",
     "output_type": "error",
     "traceback": [
      "\u001b[0;31m---------------------------------------------------------------------------\u001b[0m",
      "\u001b[0;31mTypeError\u001b[0m                                 Traceback (most recent call last)",
      "\u001b[0;32m<ipython-input-3-e0e4ffc44f9b>\u001b[0m in \u001b[0;36m<module>\u001b[0;34m\u001b[0m\n\u001b[0;32m----> 1\u001b[0;31m \u001b[0mmodel\u001b[0m \u001b[0;34m=\u001b[0m \u001b[0mtrain_model\u001b[0m\u001b[0;34m(\u001b[0m\u001b[0mlabels\u001b[0m\u001b[0;34m)\u001b[0m\u001b[0;34m\u001b[0m\u001b[0;34m\u001b[0m\u001b[0m\n\u001b[0m",
      "\u001b[0;32m~/Projects/gwave/modules/basic_convo.py\u001b[0m in \u001b[0;36mtrain_model\u001b[0;34m(labels, batch_size, training_steps)\u001b[0m\n\u001b[1;32m    154\u001b[0m                                 \u001b[0mon_trace_ready\u001b[0m\u001b[0;34m=\u001b[0m\u001b[0mtorch\u001b[0m\u001b[0;34m.\u001b[0m\u001b[0mprofiler\u001b[0m\u001b[0;34m.\u001b[0m\u001b[0mtensorboard_trace_handler\u001b[0m\u001b[0;34m(\u001b[0m\u001b[0;34m\"./log/convnet1\"\u001b[0m\u001b[0;34m)\u001b[0m\u001b[0;34m,\u001b[0m\u001b[0;34m\u001b[0m\u001b[0;34m\u001b[0m\u001b[0m\n\u001b[1;32m    155\u001b[0m                                 \u001b[0mrecord_shapes\u001b[0m\u001b[0;34m=\u001b[0m\u001b[0;32mTrue\u001b[0m\u001b[0;34m,\u001b[0m \u001b[0mprofiler_memory\u001b[0m\u001b[0;34m=\u001b[0m\u001b[0;32mTrue\u001b[0m\u001b[0;34m,\u001b[0m\u001b[0;34m\u001b[0m\u001b[0;34m\u001b[0m\u001b[0m\n\u001b[0;32m--> 156\u001b[0;31m                                 with_stack=True) as prof:\n\u001b[0m\u001b[1;32m    157\u001b[0m         \u001b[0mcounter\u001b[0m \u001b[0;34m=\u001b[0m \u001b[0;36m0\u001b[0m\u001b[0;34m\u001b[0m\u001b[0;34m\u001b[0m\u001b[0m\n\u001b[1;32m    158\u001b[0m         \u001b[0mtest_counter\u001b[0m \u001b[0;34m=\u001b[0m \u001b[0;36m0\u001b[0m\u001b[0;34m\u001b[0m\u001b[0;34m\u001b[0m\u001b[0m\n",
      "\u001b[0;31mTypeError\u001b[0m: __init__() got an unexpected keyword argument 'profiler_memory'"
     ]
    }
   ],
   "source": [
    "model = train_model(labels)"
   ]
  },
  {
   "cell_type": "code",
   "execution_count": null,
   "metadata": {},
   "outputs": [],
   "source": []
  },
  {
   "cell_type": "code",
   "execution_count": 4,
   "metadata": {},
   "outputs": [],
   "source": [
    "import numpy as np\n",
    "import random\n",
    "np1 = np.zeros((10, ))\n",
    "np2 = np.zeros((10, ))\n",
    "np3 = np.zeros((10, ))\n",
    "\n",
    "def fill(arr):\n",
    "    for i in range(arr.shape[0]):\n",
    "        if random.random() < .6:\n",
    "            arr[i] = random.random()\n",
    "    return arr\n",
    "\n",
    "np1 = fill(np1)\n",
    "np2 = fill(np2)\n",
    "np3 = fill(np3)"
   ]
  },
  {
   "cell_type": "code",
   "execution_count": 5,
   "metadata": {},
   "outputs": [
    {
     "name": "stdout",
     "output_type": "stream",
     "text": [
      "[0.         0.11601637 0.         0.         0.68305533\n",
      " 0.         0.         0.6868854  0.5832163  0.        ]\n",
      "[0.         0.74966586 0.         0.         0.88632825\n",
      " 0.61978832 0.         0.29680572 0.48174126 0.02801845]\n",
      "[0.53161088 0.         0.38445353 0.         0.73756836\n",
      " 0.81076474 0.         0.1191773  0.4543285  0.        ]\n"
     ]
    }
   ],
   "source": [
    "print(np1)\n",
    "print(np2)\n",
    "print(np3)"
   ]
  },
  {
   "cell_type": "code",
   "execution_count": 6,
   "metadata": {},
   "outputs": [
    {
     "data": {
      "text/plain": [
       "array([0.53161088, 0.86568223, 0.38445353, 0.        ,\n",
       "       2.30695193, 1.43055305, 0.        , 1.10286843,\n",
       "       1.51928606, 0.02801845])"
      ]
     },
     "execution_count": 6,
     "metadata": {},
     "output_type": "execute_result"
    }
   ],
   "source": [
    "np1 + np2 + np3"
   ]
  },
  {
   "cell_type": "code",
   "execution_count": 7,
   "metadata": {},
   "outputs": [
    {
     "data": {
      "text/plain": [
       "array([-0.53161088, -0.63364949, -0.38445353,  0.        ,\n",
       "       -0.94084128, -1.43055305,  0.        ,  0.27090238,\n",
       "       -0.35285346, -0.02801845])"
      ]
     },
     "execution_count": 7,
     "metadata": {},
     "output_type": "execute_result"
    }
   ],
   "source": [
    "np1 - np2 - np3"
   ]
  },
  {
   "cell_type": "code",
   "execution_count": 8,
   "metadata": {},
   "outputs": [
    {
     "data": {
      "text/plain": [
       "array([0.        , 0.        , 0.        , 0.        ,\n",
       "       0.44653217, 0.        , 0.        , 0.02429686,\n",
       "       0.12764784, 0.        ])"
      ]
     },
     "execution_count": 8,
     "metadata": {},
     "output_type": "execute_result"
    }
   ],
   "source": [
    "np1 * np2 * np3"
   ]
  },
  {
   "cell_type": "code",
   "execution_count": null,
   "metadata": {},
   "outputs": [],
   "source": [
    "# Playing around with data/checking spectrogram vals and other transformsimport numpy as np\n",
    "from scipy.signal import spectrogram\n",
    "import matplotlib.pyplot as plt\n",
    "import gwpy"
   ]
  },
  {
   "cell_type": "code",
   "execution_count": null,
   "metadata": {},
   "outputs": [],
   "source": [
    "data = np.load(\"train/0/0/0/00000e74ad.npy\")[1]"
   ]
  },
  {
   "cell_type": "code",
   "execution_count": null,
   "metadata": {},
   "outputs": [],
   "source": [
    "tm, freq, spec = spectrogram(data, 2048, nperseg=8, noverlap=2)"
   ]
  },
  {
   "cell_type": "code",
   "execution_count": null,
   "metadata": {},
   "outputs": [],
   "source": [
    "plt.pcolormesh(freq, tm, spec)"
   ]
  },
  {
   "cell_type": "code",
   "execution_count": null,
   "metadata": {},
   "outputs": [],
   "source": [
    "def prepare_signal(signal, low_freq=35, high_freq=400, band = False):\n",
    "    whitened = signal.whiten(window=(\"tukey\", 0.2)) #This is similar to what happens with window=None in spectrogram\n",
    "    if band:\n",
    "        banded = whitened=bandpass(low_freq, high_freq) #I might remove this tbh, dunno if anomalies happen here\n",
    "        return banded\n",
    "    return whitened\n",
    "\n",
    "def q_transform(signal, qlow=16, qhigh=32, freqlow=30, freqhigh=450):\n",
    "    return signal.q_transform(qrange=(qlow, qhigh), frange=(freqlow, freqhigh), logf=True, whiten=False)\n",
    "\n",
    "from gwpy.timeseries import TimeSeries\n",
    "\n",
    "#Important -- signal is loaded as a GWpy TimeSeries, with sample_rate set to the sample hertz, 2048\n",
    "signal = TimeSeries(data, sample_rate=2048)\n",
    "signal = prepare_signal(signal)\n"
   ]
  },
  {
   "cell_type": "code",
   "execution_count": null,
   "metadata": {},
   "outputs": [],
   "source": [
    "qtrans = q_transform(signal)\n",
    "figure = qtrans.plot(figsize=[25, 15])\n",
    "ax = figure.gca()\n",
    "ax.grid(False)\n"
   ]
  },
  {
   "cell_type": "code",
   "execution_count": null,
   "metadata": {},
   "outputs": [],
   "source": [
    "\n",
    "maxi_x = 0\n",
    "maxi_y = 0\n",
    "v = 0\n",
    "for i in range(qtrans.shape[0]):\n",
    "    print(\"i?\", i)\n",
    "    for j in range(qtrans.shape[1]):\n",
    "        if qtrans[i][j] > v:\n",
    "            v = qtrans[i][j]\n",
    "            maxi_x = i\n",
    "            maxi_y = j\n",
    "print(maxi_x, maxi_y)"
   ]
  },
  {
   "cell_type": "code",
   "execution_count": null,
   "metadata": {},
   "outputs": [],
   "source": [
    "qtrans[316][438]"
   ]
  },
  {
   "cell_type": "code",
   "execution_count": null,
   "metadata": {},
   "outputs": [],
   "source": [
    "qtrans2 = qtrans.copy()\n",
    "for i in range(10, 20):\n",
    "    for j in range(450, 475):\n",
    "        qtrans2[i][j] = 25\n",
    "figure2 = qtrans2.plot(figsize=[25, 15])\n",
    "ax2 = figure2.gca()\n",
    "ax2.grid(False)"
   ]
  },
  {
   "cell_type": "code",
   "execution_count": null,
   "metadata": {},
   "outputs": [],
   "source": [
    "from modules.functions import load_training_labels"
   ]
  },
  {
   "cell_type": "code",
   "execution_count": null,
   "metadata": {},
   "outputs": [],
   "source": [
    "#Check for no imbalance\n",
    "counts = {0: 0, 1: 0}\n",
    "labels= load_training_labels()\n",
    "for key in labels:\n",
    "    if labels[key]:\n",
    "        counts[1] += 1\n",
    "    else:\n",
    "        counts[0] += 1\n",
    "for key in counts:\n",
    "    print(key, counts[key]/len(labels))"
   ]
  },
  {
   "cell_type": "code",
   "execution_count": null,
   "metadata": {},
   "outputs": [],
   "source": [
    "qtrans.shape"
   ]
  },
  {
   "cell_type": "code",
   "execution_count": null,
   "metadata": {},
   "outputs": [],
   "source": [
    "import torch\n",
    "tmp = torch.randn(5, 3, 1, 10, 5)"
   ]
  },
  {
   "cell_type": "code",
   "execution_count": null,
   "metadata": {},
   "outputs": [],
   "source": [
    "tmp[0]"
   ]
  },
  {
   "cell_type": "code",
   "execution_count": null,
   "metadata": {},
   "outputs": [],
   "source": [
    "def view_diff(x):\n",
    "    #print(x)\n",
    "    x = torch.transpose(x, 2, 3)\n",
    "    print(x.shape)\n",
    "    \n",
    "view_diff(tmp[:, 0, :, :, :])"
   ]
  },
  {
   "cell_type": "code",
   "execution_count": null,
   "metadata": {},
   "outputs": [],
   "source": []
  }
 ],
 "metadata": {
  "kernelspec": {
   "display_name": "geo",
   "language": "python",
   "name": "geo"
  },
  "language_info": {
   "codemirror_mode": {
    "name": "ipython",
    "version": 3
   },
   "file_extension": ".py",
   "mimetype": "text/x-python",
   "name": "python",
   "nbconvert_exporter": "python",
   "pygments_lexer": "ipython3",
   "version": "3.7.11"
  }
 },
 "nbformat": 4,
 "nbformat_minor": 4
}
